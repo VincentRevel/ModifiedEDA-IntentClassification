{
 "cells": [
  {
   "cell_type": "code",
   "execution_count": 1,
   "metadata": {},
   "outputs": [
    {
     "name": "stderr",
     "output_type": "stream",
     "text": [
      "[nltk_data] Downloading package stopwords to\n",
      "[nltk_data]     C:\\Users\\vince\\AppData\\Roaming\\nltk_data...\n",
      "[nltk_data]   Package stopwords is already up-to-date!\n",
      "[nltk_data] Downloading package punkt to\n",
      "[nltk_data]     C:\\Users\\vince\\AppData\\Roaming\\nltk_data...\n",
      "[nltk_data]   Package punkt is already up-to-date!\n",
      "[nltk_data] Downloading package wordnet to\n",
      "[nltk_data]     C:\\Users\\vince\\AppData\\Roaming\\nltk_data...\n",
      "[nltk_data]   Package wordnet is already up-to-date!\n"
     ]
    },
    {
     "data": {
      "text/plain": [
       "True"
      ]
     },
     "execution_count": 1,
     "metadata": {},
     "output_type": "execute_result"
    }
   ],
   "source": [
    "import random\n",
    "from random import shuffle\n",
    "import nltk\n",
    "from nltk.tokenize import word_tokenize\n",
    "from nltk.tag import pos_tag\n",
    "from nltk.tag import CRFTagger\n",
    "nltk.download('stopwords')\n",
    "nltk.download('punkt')\n",
    "nltk.download('wordnet')"
   ]
  },
  {
   "cell_type": "markdown",
   "metadata": {},
   "source": [
    "## Cleaning Text"
   ]
  },
  {
   "cell_type": "code",
   "execution_count": 2,
   "metadata": {},
   "outputs": [],
   "source": [
    "import re\n",
    "def get_only_chars(line):\n",
    "\n",
    "    clean_line = \"\"\n",
    "\n",
    "    line = line.replace(\"’\", \"\")\n",
    "    line = line.replace(\"'\", \"\")\n",
    "    line = line.replace(\"-\", \" \")\n",
    "    line = line.replace(\"\\t\", \" \")\n",
    "    line = line.replace(\"\\n\", \" \")\n",
    "    line = line.lower()\n",
    "\n",
    "    for char in line:\n",
    "        if char in 'qwertyuiopasdfghjklzxcvbnm ':\n",
    "            clean_line += char\n",
    "        else:\n",
    "            clean_line += ' '\n",
    "\n",
    "    clean_line = re.sub(' +',' ',clean_line) #delete extra spaces\n",
    "    if clean_line[0] == ' ':\n",
    "        clean_line = clean_line[1:]\n",
    "    return clean_line"
   ]
  },
  {
   "cell_type": "code",
   "execution_count": 3,
   "metadata": {},
   "outputs": [
    {
     "data": {
      "text/plain": [
       "757"
      ]
     },
     "execution_count": 3,
     "metadata": {},
     "output_type": "execute_result"
    }
   ],
   "source": [
    "from nltk.corpus import stopwords\n",
    "\n",
    "# get Indonesian stopword\n",
    "stop_words = set(stopwords.words('indonesian'))\n",
    "len(stop_words)"
   ]
  },
  {
   "cell_type": "markdown",
   "metadata": {},
   "source": [
    "## Example Token"
   ]
  },
  {
   "cell_type": "code",
   "execution_count": 5,
   "metadata": {},
   "outputs": [],
   "source": [
    "original = 'Saya login siam tetapi tidak bisa, disitu teretera tulisan \"Silahkan klik <a href=\"http://bais.ub.ac.id/\">disini</a> (atau icon AKTVASI di atas) untuk melakukan aktivasi account!\" padahal saya sudah aktivasi akun @student'\n",
    "original_http_cleaned = preprocess_text(original)"
   ]
  },
  {
   "cell_type": "code",
   "execution_count": 6,
   "metadata": {},
   "outputs": [],
   "source": [
    "og_tokens = nltk.tokenize.word_tokenize(get_only_chars(original_http_cleaned))"
   ]
  },
  {
   "cell_type": "code",
   "execution_count": 7,
   "metadata": {},
   "outputs": [
    {
     "data": {
      "text/plain": [
       "['saya',\n",
       " 'login',\n",
       " 'siam',\n",
       " 'tetapi',\n",
       " 'tidak',\n",
       " 'bisa',\n",
       " 'disitu',\n",
       " 'teretera',\n",
       " 'tulisan',\n",
       " 'silahkan',\n",
       " 'klik',\n",
       " 'disini',\n",
       " 'atau',\n",
       " 'icon',\n",
       " 'aktvasi',\n",
       " 'di',\n",
       " 'atas',\n",
       " 'untuk',\n",
       " 'melakukan',\n",
       " 'aktivasi',\n",
       " 'account',\n",
       " 'padahal',\n",
       " 'saya',\n",
       " 'sudah',\n",
       " 'aktivasi',\n",
       " 'akun',\n",
       " 'student']"
      ]
     },
     "execution_count": 7,
     "metadata": {},
     "output_type": "execute_result"
    }
   ],
   "source": [
    "text = \"Saya login siam, tetapi tidak bisa disitu teretera tulisan Silahkan klik disini atau icon AKTVASI di atas untuk melakukan aktivasi account padahal saya sudah aktivasi akun student\"\n",
    "text2 = \"Yth Admin Helpdesk TIK UB saya mendapat labtop baru pengadaan kantor PJM Saya memerlukan Office 365 untuk laptop baru tersebut Mohon dapat dibantu\"\n",
    "tokens = nltk.tokenize.word_tokenize(get_only_chars(text))\n",
    "tokens"
   ]
  },
  {
   "cell_type": "markdown",
   "metadata": {},
   "source": [
    "## Synonym Dictionary\n",
    "https://github.com/victoriasovereigne/tesaurus\n",
    "Indonesian Thesaurus in json format, taken from the Central Indonesian Language Thesaurus by the Department of National Education in 2008. The online version is taken from the following link:\n",
    "\n",
    "https://theindonesianwriters.files.wordpress.com/2011/04/kamus-tesaurus_bahasa-indonesia.pdf\n",
    "\n",
    "The dict.json file is a dump of the Python dictionary, with\n",
    "\n",
    "key: word entry you want to search for\n",
    "value: dictionary contains tags, synonyms, and antonyms\n",
    "Example:\n",
    "\n",
    "unik --> {'tag': 'a', 'synonym': ['distingtif', 'eksklusif', 'idiosinkratis', 'individual', 'istimewa', 'khas', 'khusus', 'partikular', 'singularis', 'solo', 'spesial', 'spesifik', 'tersendiri', 'tunggal'], 'antonym': ['biasa']}\n",
    "\n",
    "Daftar tag:\n",
    "\n",
    "a = adjective\n",
    "adv = adverb\n",
    "ki = figure of speech\n",
    "n = noun\n",
    "num = numeralia\n",
    "p = particle\n",
    "pron = pronoun\n",
    "v = verb"
   ]
  },
  {
   "cell_type": "code",
   "execution_count": 8,
   "metadata": {},
   "outputs": [],
   "source": [
    "import json\n",
    "\n",
    "# ==================================================\n",
    "# Read dictionary from json\n",
    "# ==================================================\n",
    "def load(filename):\n",
    "\twith open(filename) as data_file:\n",
    "\t\tdata = json.load(data_file)\n",
    "\n",
    "\treturn data\n",
    "\n",
    "# load dictionary\n",
    "mydict = load('dict.json')"
   ]
  },
  {
   "cell_type": "code",
   "execution_count": 9,
   "metadata": {},
   "outputs": [],
   "source": [
    "# ==================================================\n",
    "# Look for synonyms for a word from the dictionary\n",
    "# ==================================================\n",
    "def getSinonim(word):\n",
    "\tif word in mydict.keys():\n",
    "\t\treturn mydict[word]['sinonim']\n",
    "\telse:\n",
    "\t\treturn []\n",
    "\n",
    "# ==================================================\n",
    "# Look for antonym for a word from the dictionary\n",
    "# ==================================================\n",
    "def getAntonim(word):\n",
    "\tif word in mydict.keys():\n",
    "\t\tif 'antonim' in mydict[word].keys():\n",
    "\t\t\treturn mydict[word]['antonim']\n",
    "\n",
    "\treturn []"
   ]
  },
  {
   "cell_type": "code",
   "execution_count": 10,
   "metadata": {},
   "outputs": [
    {
     "name": "stdout",
     "output_type": "stream",
     "text": [
      "['abdi', 'aku', 'ana ', 'beta', 'ego', 'gua ', 'hamba', 'kami', 'kawula', 'kita ', 'patik']\n",
      "['berhasil']\n"
     ]
    }
   ],
   "source": [
    "print(getSinonim('saya'))\n",
    "print(getAntonim('gagal'))"
   ]
  },
  {
   "cell_type": "markdown",
   "metadata": {},
   "source": [
    "## POS Tagging\n",
    "\n",
    "POS tagging in this study uses a pretrained model (1.6 MB) which is trained using Fam Rashel data (200K+ tokens)\n",
    "https://yudiwbs.wordpress.com/2018/02/20/pos-tagger-bahasa-indonesia-dengan-pytho/\n",
    "https://github.com/famrashel/idn-tagged-corpus"
   ]
  },
  {
   "cell_type": "code",
   "execution_count": 11,
   "metadata": {},
   "outputs": [],
   "source": [
    "ct = CRFTagger()\n",
    "ct.set_model_file('all_indo_man_tag_corpus_model.crf.tagger')\n",
    "\n",
    "def get_pos_tag(word):\n",
    "\tresult = ct.tag_sents([word])\n",
    "\tresult = [tag for word, tag in result[0]]\n",
    "\treturn result\n",
    "def get_pos_tag_with_word(word):\n",
    "\tresult = ct.tag_sents([word])\n",
    "\treturn result\n",
    "\n",
    "def compare_pos_tag(word1, word2):\n",
    "\tpos1 = get_pos_tag([word1])\n",
    "\tpos2 = get_pos_tag([word2])\n",
    "\treturn (pos1 == pos2)"
   ]
  },
  {
   "cell_type": "markdown",
   "metadata": {},
   "source": [
    "## FastText"
   ]
  },
  {
   "cell_type": "code",
   "execution_count": 12,
   "metadata": {},
   "outputs": [],
   "source": [
    "from gensim.models import KeyedVectors\n",
    "\n",
    "# Path to the downloaded .vec.gz file\n",
    "model_path = 'cc.id.300.vec.gz'\n",
    "\n",
    "# Load the model (this may take some time)\n",
    "fasttext_model = KeyedVectors.load_word2vec_format(model_path, binary=False)"
   ]
  },
  {
   "cell_type": "markdown",
   "metadata": {},
   "source": [
    "## Synonym Replacement"
   ]
  },
  {
   "cell_type": "code",
   "execution_count": 55,
   "metadata": {},
   "outputs": [],
   "source": [
    "########################################################################\n",
    "# Synonym replacement\n",
    "# Replace n words in the sentence with synonyms from dictionary\n",
    "########################################################################\n",
    "from nltk.corpus import wordnet\n",
    "\n",
    "def synonym_replacement(sentences, n):\n",
    "    new_sentences = []\n",
    "    words = nltk.tokenize.word_tokenize(get_only_chars(sentences))\n",
    "    random_word_list = words\n",
    "    random.shuffle(random_word_list)\n",
    "    words_replaced = 0\n",
    "    while words_replaced < n and random_word_list:\n",
    "        random_word = random_word_list.pop()\n",
    "        synonyms = get_synonyms(random_word)\n",
    "        if not synonyms:\n",
    "            continue\n",
    "        valid_sentences = []\n",
    "        for synonym in synonyms:\n",
    "            if compare_pos_tag(random_word, synonym):\n",
    "                valid_sentences.append(replace_word(sentences, random_word, synonym))\n",
    "        if valid_sentences:\n",
    "            new_sentences.extend(valid_sentences)\n",
    "            words_replaced += 1\n",
    "    return new_sentences\n",
    "\n",
    "\n",
    "def get_synonyms(word):\n",
    "\tsynonyms = set(getSinonim(word))\n",
    "\tif word in synonyms:\n",
    "\t\tsynonyms.remove(word)\n",
    "\treturn list(synonyms)\n",
    "\n",
    "def replace_word(sentences, word_old, word_new):\n",
    "    # Use regular expressions to search for old words without paying attention to spaces\n",
    "    new_sentences = re.sub(r'\\b' + re.escape(word_old) + r'\\b', word_new, sentences)\n",
    "    return new_sentences"
   ]
  },
  {
   "cell_type": "markdown",
   "metadata": {},
   "source": [
    "## Random Insertion"
   ]
  },
  {
   "cell_type": "code",
   "execution_count": 14,
   "metadata": {},
   "outputs": [],
   "source": [
    "########################################################################\n",
    "# Random insertion\n",
    "# Randomly insert n words into the sentence\n",
    "########################################################################\n",
    "\n",
    "def random_insertion(sentences, n):\n",
    "\tnew_sentences = []\n",
    "\twords = nltk.tokenize.word_tokenize(get_only_chars(sentences))\n",
    "\tnew_words = words.copy()\n",
    "\tfor _ in range(n):\n",
    "\t\tsynonyms, target_idx = add_word(new_words)\n",
    "\t\tif synonyms == \"\":\n",
    "\t\t\treturn sentences\n",
    "\t\tfor synonym in synonyms:\n",
    "\t\t\tnew_sentence = insertion(sentences, target_idx, synonym)\n",
    "\t\t\tnew_sentences.append(new_sentence)\n",
    "\treturn new_sentences\n",
    "\n",
    "def insertion(sentences, target, synonym):\n",
    "    # Mencari posisi target dalam sentences\n",
    "    target_position = sentences.find(target)\n",
    "\n",
    "    # Memastikan target ditemukan dalam sentences\n",
    "    if target_position != -1:\n",
    "        # Menambahkan synonym setelah target\n",
    "        formated_sentences = sentences[:target_position + len(target)] + \" \" + synonym + sentences[target_position + len(target):]\n",
    "        return formated_sentences\n",
    "    else:\n",
    "        # Jika target tidak ditemukan, mengembalikan sentences asli\n",
    "        return sentences\n",
    "\t\n",
    "def add_word(new_words):\n",
    "\ttemp = new_words.copy()\n",
    "\tsynonyms = []\n",
    "\tcounter = 0\n",
    "\tinserted = False\n",
    "\twhile not inserted:\n",
    "\t\tif not temp:\n",
    "\t\t\treturn \"\", \"\"\n",
    "\t\trandom_word_idx = random.randint(0, len(temp) - 1)\n",
    "\t\trandom_word = temp[random_word_idx]\n",
    "\t\tsynonyms = get_synonyms(random_word)\n",
    "\t\t# Filter synonyms to make sure they have the same POS tag as the original word\n",
    "\t\tvalid_synonyms = [syn for syn in synonyms if compare_pos_tag(random_word, syn)]\n",
    "\t\tcounter += 1\n",
    "\t\tif valid_synonyms:\n",
    "\t\t\t# random_synonym = random.choice()\n",
    "\t\t\t# new_words.insert(random_word_idx + 1, random_synonym)  # Memasukkan sinonim setelah kata acak\n",
    "\t\t\t# print(\"memasukkan \", random_synonym, \" setelah \", random_word)\n",
    "\t\t\tinserted = True\n",
    "\t\t\treturn valid_synonyms, random_word\n",
    "\t\t# if counter >= 10:\n",
    "\t\t# \treturn \"\", \"\"\n",
    "\t\telse:\n",
    "\t\t\tdel temp[random_word_idx]\n"
   ]
  },
  {
   "cell_type": "markdown",
   "metadata": {},
   "source": [
    "## Random Swap"
   ]
  },
  {
   "cell_type": "code",
   "execution_count": 15,
   "metadata": {},
   "outputs": [],
   "source": [
    "import numpy as np\n",
    "from scipy.spatial.distance import cosine\n",
    "# Updated aspect terms specific to IT helpdesk context in Indonesian\n",
    "aspect_terms = [\"login\", \"vpn\", \"email\", \"lisensi office\", \"webhosting\", \"nilai it\", \"terima kasih\"]\n",
    "\n",
    "########################################################################\n",
    "# Random swap\n",
    "# Randomly swap two words in the sentence n times\n",
    "########################################################################\n",
    "def random_swap(sentence):\n",
    "    words = sentence.split()  # Simple tokenization based on whitespace, you can replace this with a proper tokenizer for Indonesian.\n",
    "    if len(words) < 2:  # Need at least 2 words to perform a swap\n",
    "        return sentence\n",
    "    \n",
    "    w1, w2 = np.random.choice(words, 2, replace=False)\n",
    "    \n",
    "    for _ in range(10):  # Attempt 10 times\n",
    "        pos_w1 = get_pos_tag(w1)\n",
    "        pos_w2 = get_pos_tag(w2)\n",
    "        \n",
    "        # Check if any is an adjective or similar to aspect terms\n",
    "        if pos_w1 == 'ADJ' or pos_w2 == 'ADJ' or \\\n",
    "           is_similar_to_aspect_terms(w1, aspect_terms) or \\\n",
    "           is_similar_to_aspect_terms(w2, aspect_terms):\n",
    "            w1, w2 = np.random.choice(words, 2, replace=False)  # Pick two different words\n",
    "        else:\n",
    "            break\n",
    "    \n",
    "    # Swap the words if they are different\n",
    "    if w1 != w2:\n",
    "        index_w1, index_w2 = words.index(w1), words.index(w2)\n",
    "        words[index_w1], words[index_w2] = w2, w1\n",
    "    \n",
    "    return ' '.join(words)\n",
    "\n",
    "def get_vector(word):\n",
    "    # Splits the word into tokens if there are spaces and then averages their vectors\n",
    "    return np.mean([fasttext_model[token] for token in word.split() if token in fasttext_model], axis=0)\n",
    "\n",
    "def is_similar_to_aspect_terms(word, aspect_terms, threshold=0.5):\n",
    "    if word not in fasttext_model:\n",
    "        return False\n",
    "    \n",
    "    word_vector = get_vector(word)\n",
    "    \n",
    "    for aspect_term in aspect_terms:\n",
    "        aspect_term_vector = get_vector(aspect_term)\n",
    "        similarity = 1 - cosine(word_vector, aspect_term_vector)  # Cosine similarity\n",
    "        if similarity > threshold:\n",
    "            return True\n",
    "            \n",
    "    return False"
   ]
  },
  {
   "cell_type": "markdown",
   "metadata": {},
   "source": [
    "## Random Deletion"
   ]
  },
  {
   "cell_type": "code",
   "execution_count": 16,
   "metadata": {},
   "outputs": [],
   "source": [
    "import random\n",
    "import numpy as np\n",
    "from nltk.corpus import stopwords\n",
    "from nltk.tokenize import word_tokenize\n",
    "from nltk.tag import pos_tag\n",
    "from scipy.spatial.distance import cosine\n",
    "\n",
    "aspect_terms = [\"login\", \"vpn\", \"email\", \"lisensi office\", \"webhosting\", \"nilai it\", \"terima kasih\"]\n",
    "\n",
    "def is_similar_to_aspect_terms(word, aspect_terms, threshold=0.3):\n",
    "    if word not in fasttext_model:\n",
    "        return False\n",
    "    \n",
    "    word_vector = get_vector(word)\n",
    "    \n",
    "    for aspect_term in aspect_terms:\n",
    "        aspect_term_vector = get_vector(aspect_term)\n",
    "        similarity = 1 - cosine(word_vector, aspect_term_vector)  # Cosine similarity\n",
    "        if similarity > threshold:\n",
    "            return True\n",
    "            \n",
    "    return False\n",
    "\n",
    "def get_vector(word):\n",
    "    # Splits the word into tokens if there are spaces and then averages their vectors\n",
    "    return np.mean([fasttext_model[token] for token in word.split() if token in fasttext_model], axis=0)\n",
    "\n",
    "def random_deletion(sentence, p=0.3):\n",
    "    tokens = word_tokenize(sentence)\n",
    "    pos_tags = get_pos_tag_with_word(tokens)\n",
    "    deletion_occurred = False\n",
    "    new_sentence = []\n",
    "\n",
    "    for word, pos in pos_tags[0]:\n",
    "        random_number = random.uniform(0, 1)  # Generate a new random number for each word\n",
    "        if pos.startswith('JJ'):\n",
    "            new_sentence.append(word)  # Always keep adjectives\n",
    "        elif (pos.startswith('NN') or pos.startswith('VB')) and is_similar_to_aspect_terms(word, aspect_terms):\n",
    "            new_sentence.append(word)  # Always keep important nouns and verbs\n",
    "        elif random_number < p:\n",
    "            deletion_occurred = True  # Update flag if a word is deleted\n",
    "            continue  # Delete the word\n",
    "        else:\n",
    "            new_sentence.append(word)  # Keep the word\n",
    "\n",
    "    return ' '.join(new_sentence) if deletion_occurred else sentence\n",
    "\n",
    "\n"
   ]
  },
  {
   "cell_type": "markdown",
   "metadata": {},
   "source": [
    "## Testing"
   ]
  },
  {
   "cell_type": "code",
   "execution_count": 54,
   "metadata": {},
   "outputs": [
    {
     "name": "stdout",
     "output_type": "stream",
     "text": [
      "Saya login siam tetapi tidak bisa, disitu teretera tulisan \"Silahkan klik  disini  (atau icon AKTVASI di atas) untuk melakukan aktivasi account!\" padahal saya sudah aktivasi akun @student\n",
      "Saya login siam tetapi tidak bisa, disitu teretera tulisan \"Silahkan klik  disini  (atau icon AKTVASI pada atas) untuk melakukan aktivasi account!\" padahal saya sudah aktivasi akun @student\n",
      "Saya login siam tetapi tidak bisa, disitu teretera tulisan \"Silahkan klik  disini  (atau icon AKTVASI dalam atas) untuk melakukan aktivasi account!\" padahal saya sudah aktivasi akun @student\n",
      "<class 'list'>\n"
     ]
    }
   ],
   "source": [
    "x = synonym_replacement(original_http_cleaned, 1)\n",
    "print(original_http_cleaned)\n",
    "for i in range (len(x)):\n",
    "  print(x[i])\n",
    "print(type(x))"
   ]
  },
  {
   "cell_type": "code",
   "execution_count": 18,
   "metadata": {},
   "outputs": [
    {
     "name": "stdout",
     "output_type": "stream",
     "text": [
      "Saya login siam tetapi tidak bisa, disitu teretera tulisan \"Silahkan klik  disini  (atau icon AKTVASI di atas) untuk melakukan aktivasi account!\" padahal saya sudah aktivasi akun @student\n",
      "Saya login siam tetapi tidak bisa, disitu teretera tulisan \"Silahkan klik  disini  (atau maupun icon AKTVASI di atas) untuk melakukan aktivasi account!\" padahal saya sudah aktivasi akun @student\n",
      "Saya login siam tetapi tidak bisa, disitu teretera tulisan \"Silahkan klik  disini  (atau ataupun icon AKTVASI di atas) untuk melakukan aktivasi account!\" padahal saya sudah aktivasi akun @student\n",
      "<class 'list'>\n"
     ]
    }
   ],
   "source": [
    "y = random_insertion(original_http_cleaned, 1)\n",
    "print(original_http_cleaned)\n",
    "for i in range (len(y)):\n",
    "  print(y[i])\n",
    "print(type(y))"
   ]
  },
  {
   "cell_type": "code",
   "execution_count": 19,
   "metadata": {},
   "outputs": [
    {
     "name": "stdout",
     "output_type": "stream",
     "text": [
      "Saya login siam tetapi tidak bisa, disitu teretera tulisan \"Silahkan klik  disini  (atau icon AKTVASI di atas) untuk melakukan aktivasi account!\" padahal saya sudah aktivasi akun @student\n",
      "Saya siam tetapi bisa disitu teretera tulisan `` Silahkan klik disini ( atau AKTVASI di atas ) untuk melakukan aktivasi account ! '' padahal saya sudah aktivasi akun\n"
     ]
    }
   ],
   "source": [
    "print(original_http_cleaned)\n",
    "print(random_deletion(original_http_cleaned))"
   ]
  },
  {
   "cell_type": "code",
   "execution_count": 20,
   "metadata": {},
   "outputs": [
    {
     "name": "stdout",
     "output_type": "stream",
     "text": [
      "Saya login siam tetapi tidak bisa, disitu teretera tulisan \"Silahkan klik  disini  (atau icon AKTVASI di atas) untuk melakukan aktivasi account!\" padahal saya sudah aktivasi akun @student\n",
      "Saya login siam tetapi tidak bisa, disitu teretera tulisan \"Silahkan klik disini (atau icon AKTVASI di atas) untuk melakukan @student account!\" padahal saya sudah aktivasi akun aktivasi\n"
     ]
    }
   ],
   "source": [
    "swapped_sentence = random_swap(original_http_cleaned)\n",
    "print(original_http_cleaned)\n",
    "print(swapped_sentence)"
   ]
  },
  {
   "cell_type": "markdown",
   "metadata": {},
   "source": [
    "## Data Preparation"
   ]
  },
  {
   "cell_type": "code",
   "execution_count": 21,
   "metadata": {},
   "outputs": [
    {
     "data": {
      "text/html": [
       "<div>\n",
       "<style scoped>\n",
       "    .dataframe tbody tr th:only-of-type {\n",
       "        vertical-align: middle;\n",
       "    }\n",
       "\n",
       "    .dataframe tbody tr th {\n",
       "        vertical-align: top;\n",
       "    }\n",
       "\n",
       "    .dataframe thead th {\n",
       "        text-align: right;\n",
       "    }\n",
       "</style>\n",
       "<table border=\"1\" class=\"dataframe\">\n",
       "  <thead>\n",
       "    <tr style=\"text-align: right;\">\n",
       "      <th></th>\n",
       "      <th>no</th>\n",
       "      <th>intensi</th>\n",
       "      <th>chat</th>\n",
       "      <th>thread_id</th>\n",
       "      <th>entitas</th>\n",
       "    </tr>\n",
       "  </thead>\n",
       "  <tbody>\n",
       "    <tr>\n",
       "      <th>0</th>\n",
       "      <td>1.0</td>\n",
       "      <td>gagal_login</td>\n",
       "      <td>Saya login siam tetapi tidak bisa, disitu tere...</td>\n",
       "      <td>11.0</td>\n",
       "      <td>aplikasi:siam</td>\n",
       "    </tr>\n",
       "    <tr>\n",
       "      <th>1</th>\n",
       "      <td>2.0</td>\n",
       "      <td>masalah_vpn</td>\n",
       "      <td>Saya tidak bisa terhubung/gagal terhubung deng...</td>\n",
       "      <td>48.0</td>\n",
       "      <td>aplikasi:VPN UB</td>\n",
       "    </tr>\n",
       "    <tr>\n",
       "      <th>2</th>\n",
       "      <td>3.0</td>\n",
       "      <td>mengajukan_email</td>\n",
       "      <td>Selamat sore Pak,&lt;br /&gt;Saya Dini Adriani, sala...</td>\n",
       "      <td>54.0</td>\n",
       "      <td>orang:Dini Adriani|organisasi:BIPA;LIH FIB UB</td>\n",
       "    </tr>\n",
       "    <tr>\n",
       "      <th>3</th>\n",
       "      <td>4.0</td>\n",
       "      <td>masalah_vpn</td>\n",
       "      <td>assalamualaikum &lt;br /&gt;saya mau tanya kenapa sa...</td>\n",
       "      <td>104.0</td>\n",
       "      <td>aplikasi:vpn ub</td>\n",
       "    </tr>\n",
       "    <tr>\n",
       "      <th>4</th>\n",
       "      <td>5.0</td>\n",
       "      <td>masalah_vpn</td>\n",
       "      <td>Vpn nya selalu gabisa min, muncul seperti di g...</td>\n",
       "      <td>197.0</td>\n",
       "      <td>aplikasi:vpn</td>\n",
       "    </tr>\n",
       "    <tr>\n",
       "      <th>...</th>\n",
       "      <td>...</td>\n",
       "      <td>...</td>\n",
       "      <td>...</td>\n",
       "      <td>...</td>\n",
       "      <td>...</td>\n",
       "    </tr>\n",
       "    <tr>\n",
       "      <th>702</th>\n",
       "      <td>663.0</td>\n",
       "      <td>nilai_it_tidak_keluar</td>\n",
       "      <td>&lt;p&gt;Selamat Sore Min, Saya Izhar Yusuf Sadhana ...</td>\n",
       "      <td>NaN</td>\n",
       "      <td>orang:Izhar Yusuf Sadhana|organisasi:Prodi IK</td>\n",
       "    </tr>\n",
       "    <tr>\n",
       "      <th>703</th>\n",
       "      <td>664.0</td>\n",
       "      <td>nilai_it_tidak_keluar</td>\n",
       "      <td>&lt;p&gt;Assalamualaikum, permisi, Saya:&lt;/p&gt; &lt;p&gt;Nama...</td>\n",
       "      <td>NaN</td>\n",
       "      <td>orang:Mohamad Iqbal Septian Hamdany</td>\n",
       "    </tr>\n",
       "    <tr>\n",
       "      <th>704</th>\n",
       "      <td>665.0</td>\n",
       "      <td>nilai_it_tidak_keluar</td>\n",
       "      <td>&lt;p&gt;Ingin memperoleh informasi terkait nilai da...</td>\n",
       "      <td>NaN</td>\n",
       "      <td>NaN</td>\n",
       "    </tr>\n",
       "    <tr>\n",
       "      <th>705</th>\n",
       "      <td>666.0</td>\n",
       "      <td>nilai_it_tidak_keluar</td>\n",
       "      <td>&lt;p&gt;Selamat siang saya Siska Silvia Iindarwati ...</td>\n",
       "      <td>NaN</td>\n",
       "      <td>orang:Siska Silvia Iindarwati</td>\n",
       "    </tr>\n",
       "    <tr>\n",
       "      <th>706</th>\n",
       "      <td>667.0</td>\n",
       "      <td>nilai_it_tidak_keluar</td>\n",
       "      <td>&lt;p&gt;Selamat siang bapak/ibu, maaf mengganggu wa...</td>\n",
       "      <td>NaN</td>\n",
       "      <td>orang:Safitri Herdian Rachmawati|organisasi:Pr...</td>\n",
       "    </tr>\n",
       "  </tbody>\n",
       "</table>\n",
       "<p>707 rows × 5 columns</p>\n",
       "</div>"
      ],
      "text/plain": [
       "        no                intensi  \\\n",
       "0      1.0            gagal_login   \n",
       "1      2.0            masalah_vpn   \n",
       "2      3.0       mengajukan_email   \n",
       "3      4.0            masalah_vpn   \n",
       "4      5.0            masalah_vpn   \n",
       "..     ...                    ...   \n",
       "702  663.0  nilai_it_tidak_keluar   \n",
       "703  664.0  nilai_it_tidak_keluar   \n",
       "704  665.0  nilai_it_tidak_keluar   \n",
       "705  666.0  nilai_it_tidak_keluar   \n",
       "706  667.0  nilai_it_tidak_keluar   \n",
       "\n",
       "                                                  chat  thread_id  \\\n",
       "0    Saya login siam tetapi tidak bisa, disitu tere...       11.0   \n",
       "1    Saya tidak bisa terhubung/gagal terhubung deng...       48.0   \n",
       "2    Selamat sore Pak,<br />Saya Dini Adriani, sala...       54.0   \n",
       "3    assalamualaikum <br />saya mau tanya kenapa sa...      104.0   \n",
       "4    Vpn nya selalu gabisa min, muncul seperti di g...      197.0   \n",
       "..                                                 ...        ...   \n",
       "702  <p>Selamat Sore Min, Saya Izhar Yusuf Sadhana ...        NaN   \n",
       "703  <p>Assalamualaikum, permisi, Saya:</p> <p>Nama...        NaN   \n",
       "704  <p>Ingin memperoleh informasi terkait nilai da...        NaN   \n",
       "705  <p>Selamat siang saya Siska Silvia Iindarwati ...        NaN   \n",
       "706  <p>Selamat siang bapak/ibu, maaf mengganggu wa...        NaN   \n",
       "\n",
       "                                               entitas  \n",
       "0                                        aplikasi:siam  \n",
       "1                                      aplikasi:VPN UB  \n",
       "2        orang:Dini Adriani|organisasi:BIPA;LIH FIB UB  \n",
       "3                                      aplikasi:vpn ub  \n",
       "4                                         aplikasi:vpn  \n",
       "..                                                 ...  \n",
       "702      orang:Izhar Yusuf Sadhana|organisasi:Prodi IK  \n",
       "703                orang:Mohamad Iqbal Septian Hamdany  \n",
       "704                                                NaN  \n",
       "705                     orang:Siska Silvia Iindarwati   \n",
       "706  orang:Safitri Herdian Rachmawati|organisasi:Pr...  \n",
       "\n",
       "[707 rows x 5 columns]"
      ]
     },
     "execution_count": 21,
     "metadata": {},
     "output_type": "execute_result"
    }
   ],
   "source": [
    "import pandas as pd\n",
    "# Read Excel file into a Pandas DataFrame\n",
    "df = pd.read_excel(\"Rekap Dataset-v0.3.xlsx\")\n",
    "df"
   ]
  },
  {
   "cell_type": "code",
   "execution_count": 22,
   "metadata": {},
   "outputs": [
    {
     "name": "stdout",
     "output_type": "stream",
     "text": [
      "<class 'pandas.core.frame.DataFrame'>\n",
      "RangeIndex: 707 entries, 0 to 706\n",
      "Data columns (total 5 columns):\n",
      " #   Column     Non-Null Count  Dtype  \n",
      "---  ------     --------------  -----  \n",
      " 0   no         635 non-null    float64\n",
      " 1   intensi    707 non-null    object \n",
      " 2   chat       707 non-null    object \n",
      " 3   thread_id  609 non-null    float64\n",
      " 4   entitas    478 non-null    object \n",
      "dtypes: float64(2), object(3)\n",
      "memory usage: 27.7+ KB\n"
     ]
    }
   ],
   "source": [
    "df.info()"
   ]
  },
  {
   "cell_type": "markdown",
   "metadata": {},
   "source": [
    "### Cleaning Dataset"
   ]
  },
  {
   "cell_type": "code",
   "execution_count": 23,
   "metadata": {},
   "outputs": [],
   "source": [
    "import re\n",
    "\n",
    "def preprocessing(df):\n",
    "    # Assuming 'chat' is the column name in your DataFrame\n",
    "    df['chat'] = df['chat'].apply(lambda text: preprocess_text(text))\n",
    "    return df\n",
    "\n",
    "def preprocess_text(text):\n",
    "    text = re.sub(r'<[^>]*>', ' ', text) #HTML Tag remover\n",
    "    text = text.replace('/', ' atau ') #Replace . with atau\n",
    "    text = re.sub(r'[^\\x00-\\x7F]+', ' ', text) #Replace non-ascii characters\n",
    "    # email_pattern = r'\\b[\\w\\.-]+@([\\w-]+\\.)+[\\w-]{2,4}\\b'\n",
    "    # words = text.split()\n",
    "    # for i in range(len(words)):\n",
    "    #     if re.match(email_pattern, words[i]):\n",
    "    #         words[i] = words[i]\n",
    "    #     else:\n",
    "    #         # words[i] = re.sub(r'[^\\w]', ' ', words[i])\n",
    "    #         text = ' '.join(words)\n",
    "    #         text = ' '.join(text.split())\n",
    "    # text = ' '.join(words)\n",
    "    return text\n"
   ]
  },
  {
   "cell_type": "code",
   "execution_count": 24,
   "metadata": {},
   "outputs": [],
   "source": [
    "df = preprocessing(df)"
   ]
  },
  {
   "cell_type": "code",
   "execution_count": 25,
   "metadata": {},
   "outputs": [
    {
     "data": {
      "text/html": [
       "<div>\n",
       "<style scoped>\n",
       "    .dataframe tbody tr th:only-of-type {\n",
       "        vertical-align: middle;\n",
       "    }\n",
       "\n",
       "    .dataframe tbody tr th {\n",
       "        vertical-align: top;\n",
       "    }\n",
       "\n",
       "    .dataframe thead th {\n",
       "        text-align: right;\n",
       "    }\n",
       "</style>\n",
       "<table border=\"1\" class=\"dataframe\">\n",
       "  <thead>\n",
       "    <tr style=\"text-align: right;\">\n",
       "      <th></th>\n",
       "      <th>no</th>\n",
       "      <th>intensi</th>\n",
       "      <th>chat</th>\n",
       "      <th>thread_id</th>\n",
       "      <th>entitas</th>\n",
       "    </tr>\n",
       "  </thead>\n",
       "  <tbody>\n",
       "    <tr>\n",
       "      <th>0</th>\n",
       "      <td>1.0</td>\n",
       "      <td>gagal_login</td>\n",
       "      <td>Saya login siam tetapi tidak bisa, disitu tere...</td>\n",
       "      <td>11.0</td>\n",
       "      <td>aplikasi:siam</td>\n",
       "    </tr>\n",
       "    <tr>\n",
       "      <th>1</th>\n",
       "      <td>2.0</td>\n",
       "      <td>masalah_vpn</td>\n",
       "      <td>Saya tidak bisa terhubung atau gagal terhubung...</td>\n",
       "      <td>48.0</td>\n",
       "      <td>aplikasi:VPN UB</td>\n",
       "    </tr>\n",
       "    <tr>\n",
       "      <th>2</th>\n",
       "      <td>3.0</td>\n",
       "      <td>mengajukan_email</td>\n",
       "      <td>Selamat sore Pak, Saya Dini Adriani, salah sat...</td>\n",
       "      <td>54.0</td>\n",
       "      <td>orang:Dini Adriani|organisasi:BIPA;LIH FIB UB</td>\n",
       "    </tr>\n",
       "    <tr>\n",
       "      <th>3</th>\n",
       "      <td>4.0</td>\n",
       "      <td>masalah_vpn</td>\n",
       "      <td>assalamualaikum  saya mau tanya kenapa saat me...</td>\n",
       "      <td>104.0</td>\n",
       "      <td>aplikasi:vpn ub</td>\n",
       "    </tr>\n",
       "    <tr>\n",
       "      <th>4</th>\n",
       "      <td>5.0</td>\n",
       "      <td>masalah_vpn</td>\n",
       "      <td>Vpn nya selalu gabisa min, muncul seperti di g...</td>\n",
       "      <td>197.0</td>\n",
       "      <td>aplikasi:vpn</td>\n",
       "    </tr>\n",
       "    <tr>\n",
       "      <th>...</th>\n",
       "      <td>...</td>\n",
       "      <td>...</td>\n",
       "      <td>...</td>\n",
       "      <td>...</td>\n",
       "      <td>...</td>\n",
       "    </tr>\n",
       "    <tr>\n",
       "      <th>702</th>\n",
       "      <td>663.0</td>\n",
       "      <td>nilai_it_tidak_keluar</td>\n",
       "      <td>Selamat Sore Min, Saya Izhar Yusuf Sadhana NI...</td>\n",
       "      <td>NaN</td>\n",
       "      <td>orang:Izhar Yusuf Sadhana|organisasi:Prodi IK</td>\n",
       "    </tr>\n",
       "    <tr>\n",
       "      <th>703</th>\n",
       "      <td>664.0</td>\n",
       "      <td>nilai_it_tidak_keluar</td>\n",
       "      <td>Assalamualaikum, permisi, Saya:   Nama : Moha...</td>\n",
       "      <td>NaN</td>\n",
       "      <td>orang:Mohamad Iqbal Septian Hamdany</td>\n",
       "    </tr>\n",
       "    <tr>\n",
       "      <th>704</th>\n",
       "      <td>665.0</td>\n",
       "      <td>nilai_it_tidak_keluar</td>\n",
       "      <td>Ingin memperoleh informasi terkait nilai dari...</td>\n",
       "      <td>NaN</td>\n",
       "      <td>NaN</td>\n",
       "    </tr>\n",
       "    <tr>\n",
       "      <th>705</th>\n",
       "      <td>666.0</td>\n",
       "      <td>nilai_it_tidak_keluar</td>\n",
       "      <td>Selamat siang saya Siska Silvia Iindarwati te...</td>\n",
       "      <td>NaN</td>\n",
       "      <td>orang:Siska Silvia Iindarwati</td>\n",
       "    </tr>\n",
       "    <tr>\n",
       "      <th>706</th>\n",
       "      <td>667.0</td>\n",
       "      <td>nilai_it_tidak_keluar</td>\n",
       "      <td>Selamat siang bapak atau ibu, maaf mengganggu...</td>\n",
       "      <td>NaN</td>\n",
       "      <td>orang:Safitri Herdian Rachmawati|organisasi:Pr...</td>\n",
       "    </tr>\n",
       "  </tbody>\n",
       "</table>\n",
       "<p>707 rows × 5 columns</p>\n",
       "</div>"
      ],
      "text/plain": [
       "        no                intensi  \\\n",
       "0      1.0            gagal_login   \n",
       "1      2.0            masalah_vpn   \n",
       "2      3.0       mengajukan_email   \n",
       "3      4.0            masalah_vpn   \n",
       "4      5.0            masalah_vpn   \n",
       "..     ...                    ...   \n",
       "702  663.0  nilai_it_tidak_keluar   \n",
       "703  664.0  nilai_it_tidak_keluar   \n",
       "704  665.0  nilai_it_tidak_keluar   \n",
       "705  666.0  nilai_it_tidak_keluar   \n",
       "706  667.0  nilai_it_tidak_keluar   \n",
       "\n",
       "                                                  chat  thread_id  \\\n",
       "0    Saya login siam tetapi tidak bisa, disitu tere...       11.0   \n",
       "1    Saya tidak bisa terhubung atau gagal terhubung...       48.0   \n",
       "2    Selamat sore Pak, Saya Dini Adriani, salah sat...       54.0   \n",
       "3    assalamualaikum  saya mau tanya kenapa saat me...      104.0   \n",
       "4    Vpn nya selalu gabisa min, muncul seperti di g...      197.0   \n",
       "..                                                 ...        ...   \n",
       "702   Selamat Sore Min, Saya Izhar Yusuf Sadhana NI...        NaN   \n",
       "703   Assalamualaikum, permisi, Saya:   Nama : Moha...        NaN   \n",
       "704   Ingin memperoleh informasi terkait nilai dari...        NaN   \n",
       "705   Selamat siang saya Siska Silvia Iindarwati te...        NaN   \n",
       "706   Selamat siang bapak atau ibu, maaf mengganggu...        NaN   \n",
       "\n",
       "                                               entitas  \n",
       "0                                        aplikasi:siam  \n",
       "1                                      aplikasi:VPN UB  \n",
       "2        orang:Dini Adriani|organisasi:BIPA;LIH FIB UB  \n",
       "3                                      aplikasi:vpn ub  \n",
       "4                                         aplikasi:vpn  \n",
       "..                                                 ...  \n",
       "702      orang:Izhar Yusuf Sadhana|organisasi:Prodi IK  \n",
       "703                orang:Mohamad Iqbal Septian Hamdany  \n",
       "704                                                NaN  \n",
       "705                     orang:Siska Silvia Iindarwati   \n",
       "706  orang:Safitri Herdian Rachmawati|organisasi:Pr...  \n",
       "\n",
       "[707 rows x 5 columns]"
      ]
     },
     "execution_count": 25,
     "metadata": {},
     "output_type": "execute_result"
    }
   ],
   "source": [
    "df"
   ]
  },
  {
   "cell_type": "markdown",
   "metadata": {},
   "source": [
    "## Implementing Modified Easy Data Augmentation"
   ]
  },
  {
   "cell_type": "markdown",
   "metadata": {},
   "source": [
    "### Synonym Replacement"
   ]
  },
  {
   "cell_type": "code",
   "execution_count": 103,
   "metadata": {},
   "outputs": [],
   "source": [
    "df_synonym_replaced = pd.DataFrame(columns=['chat', 'intensi'])"
   ]
  },
  {
   "cell_type": "code",
   "execution_count": 134,
   "metadata": {},
   "outputs": [
    {
     "name": "stdout",
     "output_type": "stream",
     "text": [
      "2782\n"
     ]
    }
   ],
   "source": [
    "count = 0\n",
    "\n",
    "# Iterate through each row in the \"chat\" and \"intent\" columns of the DataFrame df\n",
    "for index, row in df.iterrows():\n",
    "    original_sentence = row['chat']\n",
    "    intent = row['intensi']\n",
    "\n",
    "    replaced_sentences = synonym_replacement(original_sentence, n=1)\n",
    "\n",
    "    count += len(replaced_sentences)\n",
    "\n",
    "    # Create a temporary DataFrame for synonym results\n",
    "    df_temp = pd.DataFrame({'chat': replaced_sentences, 'intensi': intent})\n",
    "\n",
    "    # Combine temporary DataFrame with df synonym replaced\n",
    "    df_synonym_replaced = pd.concat([df_synonym_replaced, df_temp], ignore_index=True)\n",
    "\n",
    "print(count)"
   ]
  },
  {
   "cell_type": "code",
   "execution_count": 135,
   "metadata": {},
   "outputs": [
    {
     "data": {
      "text/html": [
       "<div>\n",
       "<style scoped>\n",
       "    .dataframe tbody tr th:only-of-type {\n",
       "        vertical-align: middle;\n",
       "    }\n",
       "\n",
       "    .dataframe tbody tr th {\n",
       "        vertical-align: top;\n",
       "    }\n",
       "\n",
       "    .dataframe thead th {\n",
       "        text-align: right;\n",
       "    }\n",
       "</style>\n",
       "<table border=\"1\" class=\"dataframe\">\n",
       "  <thead>\n",
       "    <tr style=\"text-align: right;\">\n",
       "      <th></th>\n",
       "      <th>chat</th>\n",
       "      <th>intensi</th>\n",
       "    </tr>\n",
       "  </thead>\n",
       "  <tbody>\n",
       "    <tr>\n",
       "      <th>0</th>\n",
       "      <td>Saya login siam tetapi tidak bisa, disitu tere...</td>\n",
       "      <td>gagal_login</td>\n",
       "    </tr>\n",
       "    <tr>\n",
       "      <th>1</th>\n",
       "      <td>Saya tidak bisa terhubung atau gagal terhubung...</td>\n",
       "      <td>masalah_vpn</td>\n",
       "    </tr>\n",
       "    <tr>\n",
       "      <th>2</th>\n",
       "      <td>Saya tidak bisa terhubung atau gagal terhubung...</td>\n",
       "      <td>masalah_vpn</td>\n",
       "    </tr>\n",
       "    <tr>\n",
       "      <th>3</th>\n",
       "      <td>Saya tidak bisa terhubung atau gagal terhubung...</td>\n",
       "      <td>masalah_vpn</td>\n",
       "    </tr>\n",
       "    <tr>\n",
       "      <th>4</th>\n",
       "      <td>Saya tidak bisa terhubung atau gagal terhubung...</td>\n",
       "      <td>masalah_vpn</td>\n",
       "    </tr>\n",
       "    <tr>\n",
       "      <th>...</th>\n",
       "      <td>...</td>\n",
       "      <td>...</td>\n",
       "    </tr>\n",
       "    <tr>\n",
       "      <th>6080</th>\n",
       "      <td>Ingin memperoleh informasi tergantung nilai d...</td>\n",
       "      <td>nilai_it_tidak_keluar</td>\n",
       "    </tr>\n",
       "    <tr>\n",
       "      <th>6081</th>\n",
       "      <td>Selamat siang saya Siska Silvia Iindarwati te...</td>\n",
       "      <td>nilai_it_tidak_keluar</td>\n",
       "    </tr>\n",
       "    <tr>\n",
       "      <th>6082</th>\n",
       "      <td>Selamat siang saya Siska Silvia Iindarwati te...</td>\n",
       "      <td>nilai_it_tidak_keluar</td>\n",
       "    </tr>\n",
       "    <tr>\n",
       "      <th>6083</th>\n",
       "      <td>Selamat siang bapak atau ibu, maaf mengganggu...</td>\n",
       "      <td>nilai_it_tidak_keluar</td>\n",
       "    </tr>\n",
       "    <tr>\n",
       "      <th>6084</th>\n",
       "      <td>Selamat siang bapak atau ibu, maaf mengganggu...</td>\n",
       "      <td>nilai_it_tidak_keluar</td>\n",
       "    </tr>\n",
       "  </tbody>\n",
       "</table>\n",
       "<p>6085 rows × 2 columns</p>\n",
       "</div>"
      ],
      "text/plain": [
       "                                                   chat                intensi\n",
       "0     Saya login siam tetapi tidak bisa, disitu tere...            gagal_login\n",
       "1     Saya tidak bisa terhubung atau gagal terhubung...            masalah_vpn\n",
       "2     Saya tidak bisa terhubung atau gagal terhubung...            masalah_vpn\n",
       "3     Saya tidak bisa terhubung atau gagal terhubung...            masalah_vpn\n",
       "4     Saya tidak bisa terhubung atau gagal terhubung...            masalah_vpn\n",
       "...                                                 ...                    ...\n",
       "6080   Ingin memperoleh informasi tergantung nilai d...  nilai_it_tidak_keluar\n",
       "6081   Selamat siang saya Siska Silvia Iindarwati te...  nilai_it_tidak_keluar\n",
       "6082   Selamat siang saya Siska Silvia Iindarwati te...  nilai_it_tidak_keluar\n",
       "6083   Selamat siang bapak atau ibu, maaf mengganggu...  nilai_it_tidak_keluar\n",
       "6084   Selamat siang bapak atau ibu, maaf mengganggu...  nilai_it_tidak_keluar\n",
       "\n",
       "[6085 rows x 2 columns]"
      ]
     },
     "execution_count": 135,
     "metadata": {},
     "output_type": "execute_result"
    }
   ],
   "source": [
    "df_synonym_replaced"
   ]
  },
  {
   "cell_type": "code",
   "execution_count": 107,
   "metadata": {},
   "outputs": [],
   "source": [
    "df_synonym_replaced.to_csv('df_synonym_replaced.csv', index=False)"
   ]
  },
  {
   "cell_type": "markdown",
   "metadata": {},
   "source": [
    "### Random Insertion"
   ]
  },
  {
   "cell_type": "code",
   "execution_count": 116,
   "metadata": {},
   "outputs": [],
   "source": [
    "df_random_insertion = pd.DataFrame(columns=['chat', 'intensi'])\n",
    "df_list = []  # List to store individual DataFrames"
   ]
  },
  {
   "cell_type": "code",
   "execution_count": 117,
   "metadata": {},
   "outputs": [
    {
     "name": "stdout",
     "output_type": "stream",
     "text": [
      "707\n"
     ]
    }
   ],
   "source": [
    "count = 0\n",
    "data_to_concat = []\n",
    "\n",
    "for index, row in df.iterrows():\n",
    "    original_sentence = row['chat']\n",
    "    intent = row['intensi']\n",
    "\n",
    "    # Replace the number of words with synonyms using the random_insertion function\n",
    "    # For example, replace 1 word with a synonym\n",
    "    replaced_sentence = random_insertion(original_sentence, n=1)\n",
    "    \n",
    "\n",
    "    # Add the count to the number of sentences resulting from random insertion\n",
    "    count += 1\n",
    "\n",
    "    # Save random insertion results in a list for concatenation\n",
    "    # Create a temporary DataFrame for synonym results\n",
    "    df_temp = pd.DataFrame({'chat': [replaced_sentence], 'intensi': [intent]})\n",
    "\n",
    "    # Combine temporary DataFrame with df synonym replaced\n",
    "    df_random_insertion = pd.concat([df_random_insertion, df_temp], ignore_index=True)\n",
    "print(count)"
   ]
  },
  {
   "cell_type": "code",
   "execution_count": 118,
   "metadata": {},
   "outputs": [
    {
     "data": {
      "text/html": [
       "<div>\n",
       "<style scoped>\n",
       "    .dataframe tbody tr th:only-of-type {\n",
       "        vertical-align: middle;\n",
       "    }\n",
       "\n",
       "    .dataframe tbody tr th {\n",
       "        vertical-align: top;\n",
       "    }\n",
       "\n",
       "    .dataframe thead th {\n",
       "        text-align: right;\n",
       "    }\n",
       "</style>\n",
       "<table border=\"1\" class=\"dataframe\">\n",
       "  <thead>\n",
       "    <tr style=\"text-align: right;\">\n",
       "      <th></th>\n",
       "      <th>chat</th>\n",
       "      <th>intensi</th>\n",
       "    </tr>\n",
       "  </thead>\n",
       "  <tbody>\n",
       "    <tr>\n",
       "      <th>0</th>\n",
       "      <td>[Saya login siam tetapi tidak tak bisa, disitu...</td>\n",
       "      <td>gagal_login</td>\n",
       "    </tr>\n",
       "    <tr>\n",
       "      <th>1</th>\n",
       "      <td>[Saya tidak bisa terhubung atau gagal terhubun...</td>\n",
       "      <td>masalah_vpn</td>\n",
       "    </tr>\n",
       "    <tr>\n",
       "      <th>2</th>\n",
       "      <td>[Selamat sore Pak, Saya Dini Adriani, salah sa...</td>\n",
       "      <td>mengajukan_email</td>\n",
       "    </tr>\n",
       "    <tr>\n",
       "      <th>3</th>\n",
       "      <td>[assalamualaikum  saya mau tanya kenapa saat m...</td>\n",
       "      <td>masalah_vpn</td>\n",
       "    </tr>\n",
       "    <tr>\n",
       "      <th>4</th>\n",
       "      <td>[Vpn nya selalu terus-menerus gabisa min, munc...</td>\n",
       "      <td>masalah_vpn</td>\n",
       "    </tr>\n",
       "    <tr>\n",
       "      <th>...</th>\n",
       "      <td>...</td>\n",
       "      <td>...</td>\n",
       "    </tr>\n",
       "    <tr>\n",
       "      <th>702</th>\n",
       "      <td>[ Selamat Sore Min, Saya Izhar Yusuf Sadhana N...</td>\n",
       "      <td>nilai_it_tidak_keluar</td>\n",
       "    </tr>\n",
       "    <tr>\n",
       "      <th>703</th>\n",
       "      <td>[ Assalamualaikum, permisi, Saya:   Nama : Moh...</td>\n",
       "      <td>nilai_it_tidak_keluar</td>\n",
       "    </tr>\n",
       "    <tr>\n",
       "      <th>704</th>\n",
       "      <td>[ Ingin memperoleh informasi terkait terikat n...</td>\n",
       "      <td>nilai_it_tidak_keluar</td>\n",
       "    </tr>\n",
       "    <tr>\n",
       "      <th>705</th>\n",
       "      <td>[ Selamat siang saya Siska Silvia Iindarwati t...</td>\n",
       "      <td>nilai_it_tidak_keluar</td>\n",
       "    </tr>\n",
       "    <tr>\n",
       "      <th>706</th>\n",
       "      <td>[ Selamat siang bapak atau ibu, maaf menggangg...</td>\n",
       "      <td>nilai_it_tidak_keluar</td>\n",
       "    </tr>\n",
       "  </tbody>\n",
       "</table>\n",
       "<p>707 rows × 2 columns</p>\n",
       "</div>"
      ],
      "text/plain": [
       "                                                  chat                intensi\n",
       "0    [Saya login siam tetapi tidak tak bisa, disitu...            gagal_login\n",
       "1    [Saya tidak bisa terhubung atau gagal terhubun...            masalah_vpn\n",
       "2    [Selamat sore Pak, Saya Dini Adriani, salah sa...       mengajukan_email\n",
       "3    [assalamualaikum  saya mau tanya kenapa saat m...            masalah_vpn\n",
       "4    [Vpn nya selalu terus-menerus gabisa min, munc...            masalah_vpn\n",
       "..                                                 ...                    ...\n",
       "702  [ Selamat Sore Min, Saya Izhar Yusuf Sadhana N...  nilai_it_tidak_keluar\n",
       "703  [ Assalamualaikum, permisi, Saya:   Nama : Moh...  nilai_it_tidak_keluar\n",
       "704  [ Ingin memperoleh informasi terkait terikat n...  nilai_it_tidak_keluar\n",
       "705  [ Selamat siang saya Siska Silvia Iindarwati t...  nilai_it_tidak_keluar\n",
       "706  [ Selamat siang bapak atau ibu, maaf menggangg...  nilai_it_tidak_keluar\n",
       "\n",
       "[707 rows x 2 columns]"
      ]
     },
     "execution_count": 118,
     "metadata": {},
     "output_type": "execute_result"
    }
   ],
   "source": [
    "df_random_insertion"
   ]
  },
  {
   "cell_type": "code",
   "execution_count": 119,
   "metadata": {},
   "outputs": [],
   "source": [
    "df_random_insertion.to_csv('df_random_insertion.csv', index=False)"
   ]
  },
  {
   "cell_type": "markdown",
   "metadata": {},
   "source": [
    "### Random Deletion"
   ]
  },
  {
   "cell_type": "code",
   "execution_count": 120,
   "metadata": {},
   "outputs": [],
   "source": [
    "df_random_deletion = pd.DataFrame(columns=['chat', 'intensi'])"
   ]
  },
  {
   "cell_type": "code",
   "execution_count": 121,
   "metadata": {},
   "outputs": [
    {
     "name": "stdout",
     "output_type": "stream",
     "text": [
      "707\n"
     ]
    }
   ],
   "source": [
    "count = 0\n",
    "data_to_concat = []\n",
    "\n",
    "for index, row in df.iterrows():\n",
    "    original_sentence = row['chat']\n",
    "    intent = row['intensi']\n",
    "\n",
    "    deleted_sentence = random_deletion(original_sentence)\n",
    "\n",
    "    count += 1 \n",
    "\n",
    "    data_to_concat.append({'chat': deleted_sentence, 'intensi': intent})\n",
    "\n",
    "# Concatenate the list of dictionaries into a DataFrame\n",
    "df_random_deletion = pd.concat([df_random_deletion, pd.DataFrame(data_to_concat)], ignore_index=True)\n",
    "\n",
    "print(count)"
   ]
  },
  {
   "cell_type": "code",
   "execution_count": 122,
   "metadata": {},
   "outputs": [
    {
     "data": {
      "text/html": [
       "<div>\n",
       "<style scoped>\n",
       "    .dataframe tbody tr th:only-of-type {\n",
       "        vertical-align: middle;\n",
       "    }\n",
       "\n",
       "    .dataframe tbody tr th {\n",
       "        vertical-align: top;\n",
       "    }\n",
       "\n",
       "    .dataframe thead th {\n",
       "        text-align: right;\n",
       "    }\n",
       "</style>\n",
       "<table border=\"1\" class=\"dataframe\">\n",
       "  <thead>\n",
       "    <tr style=\"text-align: right;\">\n",
       "      <th></th>\n",
       "      <th>chat</th>\n",
       "      <th>intensi</th>\n",
       "    </tr>\n",
       "  </thead>\n",
       "  <tbody>\n",
       "    <tr>\n",
       "      <th>0</th>\n",
       "      <td>Saya siam tetapi tidak , disitu teretera tulis...</td>\n",
       "      <td>gagal_login</td>\n",
       "    </tr>\n",
       "    <tr>\n",
       "      <th>1</th>\n",
       "      <td>Saya tidak terhubung atau gagal terhubung deng...</td>\n",
       "      <td>masalah_vpn</td>\n",
       "    </tr>\n",
       "    <tr>\n",
       "      <th>2</th>\n",
       "      <td>Selamat sore Pak , Saya salah Dosen BIPA , LIH...</td>\n",
       "      <td>mengajukan_email</td>\n",
       "    </tr>\n",
       "    <tr>\n",
       "      <th>3</th>\n",
       "      <td>assalamualaikum mau tanya kenapa saat menghubu...</td>\n",
       "      <td>masalah_vpn</td>\n",
       "    </tr>\n",
       "    <tr>\n",
       "      <th>4</th>\n",
       "      <td>Vpn nya gabisa min , muncul seperti di gambar</td>\n",
       "      <td>masalah_vpn</td>\n",
       "    </tr>\n",
       "    <tr>\n",
       "      <th>...</th>\n",
       "      <td>...</td>\n",
       "      <td>...</td>\n",
       "    </tr>\n",
       "    <tr>\n",
       "      <th>702</th>\n",
       "      <td>Selamat Sore , Saya Izhar Yusuf Sadhana NIM 17...</td>\n",
       "      <td>nilai_it_tidak_keluar</td>\n",
       "    </tr>\n",
       "    <tr>\n",
       "      <th>703</th>\n",
       "      <td>Assalamualaikum , permisi , : Nama : Iqbal Sep...</td>\n",
       "      <td>nilai_it_tidak_keluar</td>\n",
       "    </tr>\n",
       "    <tr>\n",
       "      <th>704</th>\n",
       "      <td>Ingin memperoleh informasi terkait nilai dari...</td>\n",
       "      <td>nilai_it_tidak_keluar</td>\n",
       "    </tr>\n",
       "    <tr>\n",
       "      <th>705</th>\n",
       "      <td>Selamat Siska Silvia Iindarwati telah melakuka...</td>\n",
       "      <td>nilai_it_tidak_keluar</td>\n",
       "    </tr>\n",
       "    <tr>\n",
       "      <th>706</th>\n",
       "      <td>Selamat siang bapak atau ibu , maaf mengganggu...</td>\n",
       "      <td>nilai_it_tidak_keluar</td>\n",
       "    </tr>\n",
       "  </tbody>\n",
       "</table>\n",
       "<p>707 rows × 2 columns</p>\n",
       "</div>"
      ],
      "text/plain": [
       "                                                  chat                intensi\n",
       "0    Saya siam tetapi tidak , disitu teretera tulis...            gagal_login\n",
       "1    Saya tidak terhubung atau gagal terhubung deng...            masalah_vpn\n",
       "2    Selamat sore Pak , Saya salah Dosen BIPA , LIH...       mengajukan_email\n",
       "3    assalamualaikum mau tanya kenapa saat menghubu...            masalah_vpn\n",
       "4        Vpn nya gabisa min , muncul seperti di gambar            masalah_vpn\n",
       "..                                                 ...                    ...\n",
       "702  Selamat Sore , Saya Izhar Yusuf Sadhana NIM 17...  nilai_it_tidak_keluar\n",
       "703  Assalamualaikum , permisi , : Nama : Iqbal Sep...  nilai_it_tidak_keluar\n",
       "704   Ingin memperoleh informasi terkait nilai dari...  nilai_it_tidak_keluar\n",
       "705  Selamat Siska Silvia Iindarwati telah melakuka...  nilai_it_tidak_keluar\n",
       "706  Selamat siang bapak atau ibu , maaf mengganggu...  nilai_it_tidak_keluar\n",
       "\n",
       "[707 rows x 2 columns]"
      ]
     },
     "execution_count": 122,
     "metadata": {},
     "output_type": "execute_result"
    }
   ],
   "source": [
    "df_random_deletion"
   ]
  },
  {
   "cell_type": "code",
   "execution_count": 123,
   "metadata": {},
   "outputs": [],
   "source": [
    "df_random_deletion.to_csv('df_random_deletion.csv', index=False)"
   ]
  },
  {
   "cell_type": "markdown",
   "metadata": {},
   "source": [
    "### Random Swap"
   ]
  },
  {
   "cell_type": "code",
   "execution_count": 124,
   "metadata": {},
   "outputs": [],
   "source": [
    "df_random_swap = pd.DataFrame(columns=['chat', 'intensi'])"
   ]
  },
  {
   "cell_type": "code",
   "execution_count": 125,
   "metadata": {},
   "outputs": [
    {
     "name": "stdout",
     "output_type": "stream",
     "text": [
      "707\n"
     ]
    }
   ],
   "source": [
    "count = 0\n",
    "data_to_concat = []\n",
    "\n",
    "for index, row in df.iterrows():\n",
    "    original_sentence = row['chat']\n",
    "    intent = row['intensi']\n",
    "\n",
    "    inserted_sentence = random_swap(original_sentence)\n",
    "\n",
    "    count += 1\n",
    "\n",
    "    data_to_concat.append({'chat': inserted_sentence, 'intensi': intent})\n",
    "\n",
    "# Concatenate the list of dictionaries into a DataFrame\n",
    "df_random_swap = pd.concat([df_random_swap, pd.DataFrame(data_to_concat)], ignore_index=True)\n",
    "\n",
    "print(count)"
   ]
  },
  {
   "cell_type": "code",
   "execution_count": 126,
   "metadata": {},
   "outputs": [
    {
     "data": {
      "text/html": [
       "<div>\n",
       "<style scoped>\n",
       "    .dataframe tbody tr th:only-of-type {\n",
       "        vertical-align: middle;\n",
       "    }\n",
       "\n",
       "    .dataframe tbody tr th {\n",
       "        vertical-align: top;\n",
       "    }\n",
       "\n",
       "    .dataframe thead th {\n",
       "        text-align: right;\n",
       "    }\n",
       "</style>\n",
       "<table border=\"1\" class=\"dataframe\">\n",
       "  <thead>\n",
       "    <tr style=\"text-align: right;\">\n",
       "      <th></th>\n",
       "      <th>chat</th>\n",
       "      <th>intensi</th>\n",
       "    </tr>\n",
       "  </thead>\n",
       "  <tbody>\n",
       "    <tr>\n",
       "      <th>0</th>\n",
       "      <td>Saya login siam tetapi tidak untuk disitu tere...</td>\n",
       "      <td>gagal_login</td>\n",
       "    </tr>\n",
       "    <tr>\n",
       "      <th>1</th>\n",
       "      <td>Saya tidak bisa terhubung atau gagal terhubung...</td>\n",
       "      <td>masalah_vpn</td>\n",
       "    </tr>\n",
       "    <tr>\n",
       "      <th>2</th>\n",
       "      <td>Selamat ini, Pak, Saya Dini Adriani, salah sat...</td>\n",
       "      <td>mengajukan_email</td>\n",
       "    </tr>\n",
       "    <tr>\n",
       "      <th>3</th>\n",
       "      <td>assalamualaikum saya mau tanya kenapa saat men...</td>\n",
       "      <td>masalah_vpn</td>\n",
       "    </tr>\n",
       "    <tr>\n",
       "      <th>4</th>\n",
       "      <td>Vpn nya gabisa selalu min, muncul seperti di g...</td>\n",
       "      <td>masalah_vpn</td>\n",
       "    </tr>\n",
       "    <tr>\n",
       "      <th>...</th>\n",
       "      <td>...</td>\n",
       "      <td>...</td>\n",
       "    </tr>\n",
       "    <tr>\n",
       "      <th>702</th>\n",
       "      <td>Selamat Sore Min, Saya Izhar Yusuf Sadhana NIM...</td>\n",
       "      <td>nilai_it_tidak_keluar</td>\n",
       "    </tr>\n",
       "    <tr>\n",
       "      <th>703</th>\n",
       "      <td>Assalamualaikum, permisi, Saya: Nama : Mohamad...</td>\n",
       "      <td>nilai_it_tidak_keluar</td>\n",
       "    </tr>\n",
       "    <tr>\n",
       "      <th>704</th>\n",
       "      <td>dilakukan memperoleh informasi terkait nilai d...</td>\n",
       "      <td>nilai_it_tidak_keluar</td>\n",
       "    </tr>\n",
       "    <tr>\n",
       "      <th>705</th>\n",
       "      <td>Selamat siang saya Siska Silvia Iindarwati tel...</td>\n",
       "      <td>nilai_it_tidak_keluar</td>\n",
       "    </tr>\n",
       "    <tr>\n",
       "      <th>706</th>\n",
       "      <td>Selamat siang bapak atau ibu, maaf mengganggu ...</td>\n",
       "      <td>nilai_it_tidak_keluar</td>\n",
       "    </tr>\n",
       "  </tbody>\n",
       "</table>\n",
       "<p>707 rows × 2 columns</p>\n",
       "</div>"
      ],
      "text/plain": [
       "                                                  chat                intensi\n",
       "0    Saya login siam tetapi tidak untuk disitu tere...            gagal_login\n",
       "1    Saya tidak bisa terhubung atau gagal terhubung...            masalah_vpn\n",
       "2    Selamat ini, Pak, Saya Dini Adriani, salah sat...       mengajukan_email\n",
       "3    assalamualaikum saya mau tanya kenapa saat men...            masalah_vpn\n",
       "4    Vpn nya gabisa selalu min, muncul seperti di g...            masalah_vpn\n",
       "..                                                 ...                    ...\n",
       "702  Selamat Sore Min, Saya Izhar Yusuf Sadhana NIM...  nilai_it_tidak_keluar\n",
       "703  Assalamualaikum, permisi, Saya: Nama : Mohamad...  nilai_it_tidak_keluar\n",
       "704  dilakukan memperoleh informasi terkait nilai d...  nilai_it_tidak_keluar\n",
       "705  Selamat siang saya Siska Silvia Iindarwati tel...  nilai_it_tidak_keluar\n",
       "706  Selamat siang bapak atau ibu, maaf mengganggu ...  nilai_it_tidak_keluar\n",
       "\n",
       "[707 rows x 2 columns]"
      ]
     },
     "execution_count": 126,
     "metadata": {},
     "output_type": "execute_result"
    }
   ],
   "source": [
    "df_random_swap"
   ]
  },
  {
   "cell_type": "code",
   "execution_count": 127,
   "metadata": {},
   "outputs": [],
   "source": [
    "df_random_swap.to_csv('df_random_swap.csv', index=False)"
   ]
  },
  {
   "cell_type": "markdown",
   "metadata": {},
   "source": [
    "## Combine All Augmented Dataset"
   ]
  },
  {
   "cell_type": "code",
   "execution_count": 128,
   "metadata": {},
   "outputs": [],
   "source": [
    "# Combine DataFrames sequentially (vertical/row-wise)\n",
    "df_augmented = pd.concat([df_random_swap, df_random_deletion, df_random_insertion, df_synonym_replaced, df[['chat', 'intensi']]], ignore_index=True)"
   ]
  },
  {
   "cell_type": "code",
   "execution_count": 129,
   "metadata": {},
   "outputs": [
    {
     "data": {
      "text/html": [
       "<div>\n",
       "<style scoped>\n",
       "    .dataframe tbody tr th:only-of-type {\n",
       "        vertical-align: middle;\n",
       "    }\n",
       "\n",
       "    .dataframe tbody tr th {\n",
       "        vertical-align: top;\n",
       "    }\n",
       "\n",
       "    .dataframe thead th {\n",
       "        text-align: right;\n",
       "    }\n",
       "</style>\n",
       "<table border=\"1\" class=\"dataframe\">\n",
       "  <thead>\n",
       "    <tr style=\"text-align: right;\">\n",
       "      <th></th>\n",
       "      <th>chat</th>\n",
       "      <th>intensi</th>\n",
       "    </tr>\n",
       "  </thead>\n",
       "  <tbody>\n",
       "    <tr>\n",
       "      <th>0</th>\n",
       "      <td>Saya login siam tetapi tidak untuk disitu tere...</td>\n",
       "      <td>gagal_login</td>\n",
       "    </tr>\n",
       "    <tr>\n",
       "      <th>1</th>\n",
       "      <td>Saya tidak bisa terhubung atau gagal terhubung...</td>\n",
       "      <td>masalah_vpn</td>\n",
       "    </tr>\n",
       "    <tr>\n",
       "      <th>2</th>\n",
       "      <td>Selamat ini, Pak, Saya Dini Adriani, salah sat...</td>\n",
       "      <td>mengajukan_email</td>\n",
       "    </tr>\n",
       "    <tr>\n",
       "      <th>3</th>\n",
       "      <td>assalamualaikum saya mau tanya kenapa saat men...</td>\n",
       "      <td>masalah_vpn</td>\n",
       "    </tr>\n",
       "    <tr>\n",
       "      <th>4</th>\n",
       "      <td>Vpn nya gabisa selalu min, muncul seperti di g...</td>\n",
       "      <td>masalah_vpn</td>\n",
       "    </tr>\n",
       "    <tr>\n",
       "      <th>...</th>\n",
       "      <td>...</td>\n",
       "      <td>...</td>\n",
       "    </tr>\n",
       "    <tr>\n",
       "      <th>6126</th>\n",
       "      <td>Selamat Sore Min, Saya Izhar Yusuf Sadhana NI...</td>\n",
       "      <td>nilai_it_tidak_keluar</td>\n",
       "    </tr>\n",
       "    <tr>\n",
       "      <th>6127</th>\n",
       "      <td>Assalamualaikum, permisi, Saya:   Nama : Moha...</td>\n",
       "      <td>nilai_it_tidak_keluar</td>\n",
       "    </tr>\n",
       "    <tr>\n",
       "      <th>6128</th>\n",
       "      <td>Ingin memperoleh informasi terkait nilai dari...</td>\n",
       "      <td>nilai_it_tidak_keluar</td>\n",
       "    </tr>\n",
       "    <tr>\n",
       "      <th>6129</th>\n",
       "      <td>Selamat siang saya Siska Silvia Iindarwati te...</td>\n",
       "      <td>nilai_it_tidak_keluar</td>\n",
       "    </tr>\n",
       "    <tr>\n",
       "      <th>6130</th>\n",
       "      <td>Selamat siang bapak atau ibu, maaf mengganggu...</td>\n",
       "      <td>nilai_it_tidak_keluar</td>\n",
       "    </tr>\n",
       "  </tbody>\n",
       "</table>\n",
       "<p>6131 rows × 2 columns</p>\n",
       "</div>"
      ],
      "text/plain": [
       "                                                   chat                intensi\n",
       "0     Saya login siam tetapi tidak untuk disitu tere...            gagal_login\n",
       "1     Saya tidak bisa terhubung atau gagal terhubung...            masalah_vpn\n",
       "2     Selamat ini, Pak, Saya Dini Adriani, salah sat...       mengajukan_email\n",
       "3     assalamualaikum saya mau tanya kenapa saat men...            masalah_vpn\n",
       "4     Vpn nya gabisa selalu min, muncul seperti di g...            masalah_vpn\n",
       "...                                                 ...                    ...\n",
       "6126   Selamat Sore Min, Saya Izhar Yusuf Sadhana NI...  nilai_it_tidak_keluar\n",
       "6127   Assalamualaikum, permisi, Saya:   Nama : Moha...  nilai_it_tidak_keluar\n",
       "6128   Ingin memperoleh informasi terkait nilai dari...  nilai_it_tidak_keluar\n",
       "6129   Selamat siang saya Siska Silvia Iindarwati te...  nilai_it_tidak_keluar\n",
       "6130   Selamat siang bapak atau ibu, maaf mengganggu...  nilai_it_tidak_keluar\n",
       "\n",
       "[6131 rows x 2 columns]"
      ]
     },
     "execution_count": 129,
     "metadata": {},
     "output_type": "execute_result"
    }
   ],
   "source": [
    "df_augmented"
   ]
  },
  {
   "cell_type": "code",
   "execution_count": 130,
   "metadata": {},
   "outputs": [],
   "source": [
    "# Remove duplicate value\n",
    "df_augmented = df_augmented.drop_duplicates(subset='chat', keep='first')"
   ]
  },
  {
   "cell_type": "code",
   "execution_count": 131,
   "metadata": {},
   "outputs": [],
   "source": [
    "df_augmented.reset_index(drop=True, inplace=True)"
   ]
  },
  {
   "cell_type": "code",
   "execution_count": 132,
   "metadata": {},
   "outputs": [
    {
     "data": {
      "text/html": [
       "<div>\n",
       "<style scoped>\n",
       "    .dataframe tbody tr th:only-of-type {\n",
       "        vertical-align: middle;\n",
       "    }\n",
       "\n",
       "    .dataframe tbody tr th {\n",
       "        vertical-align: top;\n",
       "    }\n",
       "\n",
       "    .dataframe thead th {\n",
       "        text-align: right;\n",
       "    }\n",
       "</style>\n",
       "<table border=\"1\" class=\"dataframe\">\n",
       "  <thead>\n",
       "    <tr style=\"text-align: right;\">\n",
       "      <th></th>\n",
       "      <th>chat</th>\n",
       "      <th>intensi</th>\n",
       "    </tr>\n",
       "  </thead>\n",
       "  <tbody>\n",
       "    <tr>\n",
       "      <th>0</th>\n",
       "      <td>Saya login siam tetapi tidak untuk disitu tere...</td>\n",
       "      <td>gagal_login</td>\n",
       "    </tr>\n",
       "    <tr>\n",
       "      <th>1</th>\n",
       "      <td>Saya tidak bisa terhubung atau gagal terhubung...</td>\n",
       "      <td>masalah_vpn</td>\n",
       "    </tr>\n",
       "    <tr>\n",
       "      <th>2</th>\n",
       "      <td>Selamat ini, Pak, Saya Dini Adriani, salah sat...</td>\n",
       "      <td>mengajukan_email</td>\n",
       "    </tr>\n",
       "    <tr>\n",
       "      <th>3</th>\n",
       "      <td>assalamualaikum saya mau tanya kenapa saat men...</td>\n",
       "      <td>masalah_vpn</td>\n",
       "    </tr>\n",
       "    <tr>\n",
       "      <th>4</th>\n",
       "      <td>Vpn nya gabisa selalu min, muncul seperti di g...</td>\n",
       "      <td>masalah_vpn</td>\n",
       "    </tr>\n",
       "    <tr>\n",
       "      <th>...</th>\n",
       "      <td>...</td>\n",
       "      <td>...</td>\n",
       "    </tr>\n",
       "    <tr>\n",
       "      <th>5567</th>\n",
       "      <td>Assalamualaikum Selamat Siang Admin   Kebetul...</td>\n",
       "      <td>nilai_it_tidak_keluar</td>\n",
       "    </tr>\n",
       "    <tr>\n",
       "      <th>5568</th>\n",
       "      <td>Selamat Sore Min, Saya Izhar Yusuf Sadhana NI...</td>\n",
       "      <td>nilai_it_tidak_keluar</td>\n",
       "    </tr>\n",
       "    <tr>\n",
       "      <th>5569</th>\n",
       "      <td>Assalamualaikum, permisi, Saya:   Nama : Moha...</td>\n",
       "      <td>nilai_it_tidak_keluar</td>\n",
       "    </tr>\n",
       "    <tr>\n",
       "      <th>5570</th>\n",
       "      <td>Selamat siang saya Siska Silvia Iindarwati te...</td>\n",
       "      <td>nilai_it_tidak_keluar</td>\n",
       "    </tr>\n",
       "    <tr>\n",
       "      <th>5571</th>\n",
       "      <td>Selamat siang bapak atau ibu, maaf mengganggu...</td>\n",
       "      <td>nilai_it_tidak_keluar</td>\n",
       "    </tr>\n",
       "  </tbody>\n",
       "</table>\n",
       "<p>5572 rows × 2 columns</p>\n",
       "</div>"
      ],
      "text/plain": [
       "                                                   chat                intensi\n",
       "0     Saya login siam tetapi tidak untuk disitu tere...            gagal_login\n",
       "1     Saya tidak bisa terhubung atau gagal terhubung...            masalah_vpn\n",
       "2     Selamat ini, Pak, Saya Dini Adriani, salah sat...       mengajukan_email\n",
       "3     assalamualaikum saya mau tanya kenapa saat men...            masalah_vpn\n",
       "4     Vpn nya gabisa selalu min, muncul seperti di g...            masalah_vpn\n",
       "...                                                 ...                    ...\n",
       "5567   Assalamualaikum Selamat Siang Admin   Kebetul...  nilai_it_tidak_keluar\n",
       "5568   Selamat Sore Min, Saya Izhar Yusuf Sadhana NI...  nilai_it_tidak_keluar\n",
       "5569   Assalamualaikum, permisi, Saya:   Nama : Moha...  nilai_it_tidak_keluar\n",
       "5570   Selamat siang saya Siska Silvia Iindarwati te...  nilai_it_tidak_keluar\n",
       "5571   Selamat siang bapak atau ibu, maaf mengganggu...  nilai_it_tidak_keluar\n",
       "\n",
       "[5572 rows x 2 columns]"
      ]
     },
     "execution_count": 132,
     "metadata": {},
     "output_type": "execute_result"
    }
   ],
   "source": [
    "df_augmented"
   ]
  },
  {
   "cell_type": "code",
   "execution_count": 133,
   "metadata": {},
   "outputs": [],
   "source": [
    "df_augmented.to_csv('df_augmented.csv', index=False)"
   ]
  }
 ],
 "metadata": {
  "kernelspec": {
   "display_name": "Python 3",
   "language": "python",
   "name": "python3"
  },
  "language_info": {
   "codemirror_mode": {
    "name": "ipython",
    "version": 3
   },
   "file_extension": ".py",
   "mimetype": "text/x-python",
   "name": "python",
   "nbconvert_exporter": "python",
   "pygments_lexer": "ipython3",
   "version": "3.11.5"
  }
 },
 "nbformat": 4,
 "nbformat_minor": 2
}
